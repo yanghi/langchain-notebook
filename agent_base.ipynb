{
 "cells": [
  {
   "cell_type": "markdown",
   "id": "99fdef81-9682-48ce-90da-745bfb7bf6a3",
   "metadata": {},
   "source": [
    "# Agent\n",
    "\n",
    "准备工作"
   ]
  },
  {
   "cell_type": "code",
   "execution_count": 1,
   "id": "3acc353a-ca2c-49a8-bfc5-036f8f1664ad",
   "metadata": {
    "scrolled": true
   },
   "outputs": [
    {
     "name": "stderr",
     "output_type": "stream",
     "text": [
      "USER_AGENT environment variable not set, consider setting it to identify your requests.\n"
     ]
    }
   ],
   "source": [
    "from langchain_openai import ChatOpenAI\n",
    "from langchain.agents.tools import BaseTool, Tool\n",
    "from langchain_community.document_loaders.web_base import WebBaseLoader\n",
    "from langchain import hub\n",
    "from langchain.agents import create_react_agent,AgentExecutor\n",
    "from dotenv import load_dotenv\n",
    "import os\n",
    "\n",
    "load_dotenv()\n",
    "\n",
    "API_KEY = os.environ.get('MOONSHOT_API_KEY')\n"
   ]
  },
  {
   "cell_type": "markdown",
   "id": "a75938ee-1a1c-4aed-b30c-ff76fee7c98d",
   "metadata": {},
   "source": [
    "## 1 创建llm实例"
   ]
  },
  {
   "cell_type": "markdown",
   "id": "f5465852-24e1-4ae9-adbd-d9c871f84f9e",
   "metadata": {},
   "source": [
    "创建llm实例,这里使用moonshot模型,因为兼容了openai的接口格式,所以可以直接使用ChatOpenAi类.使用一些本地模型如ollama,效果可能达不到预期,无法让agent达到finish的状态"
   ]
  },
  {
   "cell_type": "code",
   "execution_count": 2,
   "id": "2d24ad30-062c-452f-b3b4-3cdd3b2f31eb",
   "metadata": {},
   "outputs": [],
   "source": [
    "llm = ChatOpenAI(model=\"moonshot-v1-32k\", base_url=\"https://api.moonshot.cn/v1\", api_key=API_KEY)"
   ]
  },
  {
   "cell_type": "markdown",
   "id": "98db7ff4-3497-4c55-9361-2b39eb9b58f0",
   "metadata": {},
   "source": [
    "## 2 创建tool"
   ]
  },
  {
   "cell_type": "markdown",
   "id": "ca3e0d5d-439b-4722-8905-457b29c9da85",
   "metadata": {},
   "source": [
    "agent允许使用tool, 这是扩展agent能力的关键,一个任务可以由一个或者多个tool完成, llm会在每次action的时候选择合适的tool去完成任务,tool执行后的结果会作为输入让模型开始下一轮的思考.tool中可以完成任何任务,甚至可以执行agent完成系列的任务.这里创建了一个简单的浏览网页的tool"
   ]
  },
  {
   "cell_type": "code",
   "execution_count": 3,
   "id": "c21b3a2f-83fa-4560-8c78-328a735face0",
   "metadata": {},
   "outputs": [],
   "source": [
    "def visit_website(url):\n",
    "    print(\"visit website input:\", url)\n",
    "    loader = WebBaseLoader(url)\n",
    "    docs = loader.load()\n",
    "    return f\"here is the content of the website: {docs[0].page_content}\"\n",
    "\n",
    "\n",
    "visit_website_tool = Tool(\n",
    "    name=\"visit_website\",\n",
    "    func=visit_website,\n",
    "    description=\"visit website by url\",\n",
    ")\n",
    "tools = [visit_website_tool]"
   ]
  },
  {
   "cell_type": "markdown",
   "id": "4a240391-11fb-4e09-9cbc-69ed88dc63c8",
   "metadata": {},
   "source": [
    "## 3 创建prompt"
   ]
  },
  {
   "cell_type": "markdown",
   "id": "0c6d01de",
   "metadata": {},
   "source": [
    "准备好prompt,这里使用hub提供的远程prompt, 也可以自己创建一个prompt, 需要包含的input_variables 有'agent_scratchpad', 'input', 'tool_names', 'tools'\n",
    "promp将会引导llm来完成自我思考链,去执行action,直到能够得到答案为止. langchain内部为了避免llm进入死循环,设置了一个最大的尝试次数阈值"
   ]
  },
  {
   "cell_type": "code",
   "execution_count": 4,
   "id": "232ccd0b",
   "metadata": {},
   "outputs": [
    {
     "name": "stdout",
     "output_type": "stream",
     "text": [
      "react Prompt template: Answer the following questions as best you can. You have access to the following tools:\n",
      "\n",
      "{tools}\n",
      "\n",
      "Use the following format:\n",
      "\n",
      "Question: the input question you must answer\n",
      "Thought: you should always think about what to do\n",
      "Action: the action to take, should be one of [{tool_names}]\n",
      "Action Input: the input to the action\n",
      "Observation: the result of the action\n",
      "... (this Thought/Action/Action Input/Observation can repeat N times)\n",
      "Thought: I now know the final answer\n",
      "Final Answer: the final answer to the original input question\n",
      "\n",
      "Begin!\n",
      "\n",
      "Question: {input}\n",
      "Thought:{agent_scratchpad}\n"
     ]
    }
   ],
   "source": [
    "prompt = hub.pull(\"hwchase17/react\")\n",
    "print(\"react Prompt template:\", prompt.template)"
   ]
  },
  {
   "cell_type": "markdown",
   "id": "72287ada-98f1-4360-a095-a92aaf1fcf68",
   "metadata": {},
   "source": [
    "## 4 创建agent"
   ]
  },
  {
   "cell_type": "markdown",
   "id": "911c4fde",
   "metadata": {},
   "source": [
    "创建agent"
   ]
  },
  {
   "cell_type": "code",
   "execution_count": 5,
   "id": "0086e6bb",
   "metadata": {},
   "outputs": [],
   "source": [
    "agent = create_react_agent(llm,tools,prompt)\n"
   ]
  },
  {
   "cell_type": "markdown",
   "id": "ec2c1902-990d-458e-9f59-e19188efb44c",
   "metadata": {},
   "source": [
    "## 5 创建AgentExecutor"
   ]
  },
  {
   "cell_type": "markdown",
   "id": "3b848273",
   "metadata": {},
   "source": [
    "创建一个AgentExecutor,agent本身并没有实现调用逻辑"
   ]
  },
  {
   "cell_type": "code",
   "execution_count": 6,
   "id": "ec3d2734",
   "metadata": {},
   "outputs": [],
   "source": [
    "agent_executor = AgentExecutor(agent=agent, tools=tools, verbose=True)\n"
   ]
  },
  {
   "cell_type": "markdown",
   "id": "d73c4004-5b53-4c05-b977-654fc0ae1dac",
   "metadata": {},
   "source": [
    "## 6 执行AgentExecutor"
   ]
  },
  {
   "cell_type": "markdown",
   "id": "aa2fb762",
   "metadata": {},
   "source": [
    "执行,给定 AgentExecutor一个输入,agent将会开始思考运行合适的tool并产生结果. AgentExecutor除了普通的invoke,也支持stream, astream等调用方式"
   ]
  },
  {
   "cell_type": "code",
   "execution_count": 7,
   "id": "76a32285",
   "metadata": {},
   "outputs": [
    {
     "name": "stdout",
     "output_type": "stream",
     "text": [
      "\n",
      "\n",
      "\u001b[1m> Entering new AgentExecutor chain...\u001b[0m\n",
      "\u001b[32;1m\u001b[1;3mI will visit the website mentioned in the question to understand what it is about.\n",
      "\n",
      "Action: visit_website\n",
      "Action Input: https://www.stats.gov.cn/zwfwck/sjfb/202406/t20240617_1954735.html\u001b[0mvisit website input: https://www.stats.gov.cn/zwfwck/sjfb/202406/t20240617_1954735.html\n",
      "\u001b[36;1m\u001b[1;3mhere is the content of the website: \n",
      "\n",
      "\n",
      "\n",
      "\n",
      "\n",
      "国家统计局贸经司首席统计师袁彦解读5月份消费市场数据\n",
      "\n",
      "\n",
      "\n",
      "\n",
      "\n",
      "\n",
      "\n",
      "\n",
      "\n",
      "\n",
      "\n",
      "\n",
      "首页\n",
      "\n",
      " \n",
      "\n",
      "ENGLISH\n",
      "\n",
      " \n",
      "\n",
      "RSS订阅\n",
      "\n",
      " \n",
      "\n",
      "统计微博|统计微讯|移动客户端\n",
      "\n",
      "\n",
      "\n",
      "\n",
      "\n",
      "\n",
      "\n",
      "当前位置 > 首页 > 数据发布与解读\n",
      "\n",
      "\n",
      "\n",
      "国家统计局贸经司首席统计师袁彦解读5月份消费市场数据\n",
      "\n",
      "\n",
      "\n",
      "\n",
      "发布时间：2024-06-17 15:00\n",
      "\t\t\t\t\t\n",
      "\n",
      "\n",
      "\n",
      "\n",
      "\n",
      "\n",
      "\n",
      "\n",
      "5月份消费市场恢复向好 ——国家统计局贸经司首席统计师袁彦解读5月份消费市场数据 　　5月份，消费市场运行稳中有升，市场销售增长加快，升级类消费需求有效释放，线上消费占比持续提高；服务零售继续较快增长，出行文旅消费持续活跃。 　　一、消费品市场稳中有升，乡村市场销售快于城镇 　　在“五一”假期效应、“618”网络购物节促销以及消费品以旧换新政策等因素带动下，5月份，社会消费品零售总额39211亿元，同比增长3.7%，比4月份加快1.4个百分点。其中，商品零售额、餐饮收入分别增长3.6%、5%，增速分别加快1.6个、0.6个百分点。 　　随着县域商业体系建设不断推进，乡村市场销售持续快于城镇。5月份，乡村消费品零售额同比增长4.1%，增速比城镇高0.4个百分点，比4月份加快0.6个百分点；城镇消费品零售额增长3.7%，增速加快1.6个百分点。 　　二、服务消费较快增长，出行文旅消费持续活跃 　　1—5月份，服务零售额同比增长7.9%，受上年同期基数抬升等因素影响，增速比1—4月份有所回落。与商品零售额相比，服务零售额增速高于同期商品零售额4.4个百分点。 　　居民出行文旅消费需求持续释放，带动相关服务消费较快增长。1—5月份，餐饮收入同比增长8.4%，交通出行服务类、旅游咨询租赁服务类、文体休闲服务类零售额保持较快增长。有关部门数据显示，“五一”假期，全国国内旅游出游人次和出游总花费同比分别增长7.6%和12.7%，全国营业性演出（不含娱乐场所演出）票房收入增长37.2%。 　　三、线上消费占比持续提高，新业态助推实体零售增长 　　1—5月份，实物商品网上零售额同比增长11.5%，增速比1—4月份加快0.4个百分点；占社会消费品零售总额的比重为24.7%，比1—4月份提高0.8个百分点，今年以来占比持续提升。在实物商品网上零售额中，吃类、穿类和用类商品分别增长19.6%、9%和10.8%。 　　实体零售企业数字化转型持续推进，消费新热点新业态增势良好。限额以上单位开展即时零售业务较多的便利店商品零售额同比增长4.9%，升级类消费相对较多的专业店商品零售额增长5.1%，拥有特色化自有品牌商品和会员服务的仓储会员店商品零售额保持两位数增长。 　　四、近八成商品零售增速加快，升级类商品消费需求快速释放 　　5月份，限额以上单位中近八成商品类别零售额增长加快。其中，基本生活类商品稳定增长，限额以上单位粮油食品类、日用品类商品零售额同比分别增长9.3%、7.7%，增速分别比4月份加快0.8个、3.3个百分点；服装鞋帽针纺织品类商品零售额增长4.4%。 　　在“618”网购促销、消费品以旧换新政策等因素带动下，升级类商品销售增势良好。5月份，限额以上单位体育娱乐用品类、通讯器材类、家用电器和音像器材类商品零售额同比分别增长20.2%、16.6%、12.9%，增速分别比4月份加快7.5个、3.3个、8.4个百分点；化妆品类零售额增长18.7%。 　　今年以来，消费市场保持稳定增长态势。但也要看到，居民消费能力和消费意愿仍待增强，部分商品和业态销售疲软。下阶段，要深入贯彻落实党中央、国务院决策部署，着力提升居民消费能力，不断夯实消费增长基础，加快推动消费品以旧换新政策落实落细，促进消费市场持续恢复向好。 \n",
      "\n",
      "\n",
      "\n",
      "\n",
      "相关附件\n",
      "\t\t\t\t\t\n",
      "\n",
      "\n",
      "\n",
      "\n",
      "\n",
      "\n",
      "\n",
      "\n",
      "相关文章\n",
      "\t\t\t\t\t\n",
      "\n",
      "\n",
      "\n",
      "\n",
      "\n",
      "\n",
      "\n",
      "\n",
      "\n",
      "\n",
      "\n",
      "\n",
      "\n",
      "微观数据申请\n",
      "wgsjsys@stats.gov.cn\n",
      "\n",
      "\n",
      "\n",
      "中国统计资料馆\n",
      "\n",
      "\n",
      "数据咨询电话：\n",
      "010-68576320\n",
      "\n",
      "\n",
      "\n",
      "\n",
      "\n",
      "\n",
      "\n",
      "\n",
      "\t\t\t版权所有：国家统计局\n",
      "\t\t\t地址：北京市西城区月坛南街57号（100826）\n",
      "            京ICP备05034670号   网站标识码bm36000002   联系方式：010-68783311\n",
      "\t  \n",
      "\n",
      "\n",
      "\n",
      "\n",
      "\n",
      "\n",
      "\n",
      "\n",
      "\n",
      "\n",
      "\u001b[0m\u001b[32;1m\u001b[1;3mThe website page I visited is an article that explains the data from China's consumer market in May, as interpreted by the Chief Statistician of the Trade and Economic Department of the National Bureau of Statistics, Yuan Yan. The article discusses several key points about the consumer market's performance during this period, including:\n",
      "\n",
      "1. Overall stability and slight improvement in the consumer market, with an acceleration in market sales.\n",
      "2. The release of demand for upgraded consumer goods and a continuous increase in the proportion of online consumption.\n",
      "3. Fast growth in service consumption, with an active travel and cultural consumption sector.\n",
      "4. The market in rural areas is outperforming that in urban areas in terms of sales growth.\n",
      "5. The acceleration in retail sales of nearly 80% of goods categories, with a particularly strong increase in the sale of upgraded goods.\n",
      "6. The article also mentions that while the consumer market has maintained stable growth, there is still room for enhancing consumer ability and willingness to spend, as some goods and business formats show weak sales.\n",
      "\n",
      "Final Answer: The website page discusses the interpretation of May's consumer market data in China, highlighting the recovery and growth of the market, the acceleration of service and rural market consumption, and the continuous increase in online consumption. It also notes that there is still work to be done to enhance consumer spending power and willingness.\u001b[0m\n",
      "\n",
      "\u001b[1m> Finished chain.\u001b[0m\n",
      "{'input': 'https://www.stats.gov.cn/zwfwck/sjfb/202406/t20240617_1954735.html 讲了什么东西', 'output': \"The website page discusses the interpretation of May's consumer market data in China, highlighting the recovery and growth of the market, the acceleration of service and rural market consumption, and the continuous increase in online consumption. It also notes that there is still work to be done to enhance consumer spending power and willingness.\"}\n"
     ]
    }
   ],
   "source": [
    "result = agent_executor.invoke(\n",
    "        {\"input\": \"https://www.stats.gov.cn/zwfwck/sjfb/202406/t20240617_1954735.html 讲了什么东西\"})\n",
    "print(result)"
   ]
  }
 ],
 "metadata": {
  "kernelspec": {
   "display_name": "Python 3 (ipykernel)",
   "language": "python",
   "name": "python3"
  },
  "language_info": {
   "codemirror_mode": {
    "name": "ipython",
    "version": 3
   },
   "file_extension": ".py",
   "mimetype": "text/x-python",
   "name": "python",
   "nbconvert_exporter": "python",
   "pygments_lexer": "ipython3",
   "version": "3.11.9"
  }
 },
 "nbformat": 4,
 "nbformat_minor": 5
}
